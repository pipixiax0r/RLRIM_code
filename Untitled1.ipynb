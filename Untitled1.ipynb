{
 "cells": [
  {
   "cell_type": "code",
   "execution_count": 10,
   "id": "967a4033",
   "metadata": {},
   "outputs": [],
   "source": [
    "import networkx as nx\n",
    "from diffusion import ICModel"
   ]
  },
  {
   "cell_type": "code",
   "execution_count": 4,
   "id": "ef262d64",
   "metadata": {},
   "outputs": [],
   "source": [
    "b = a.copy()"
   ]
  },
  {
   "cell_type": "code",
   "execution_count": 5,
   "id": "82c6dec7",
   "metadata": {},
   "outputs": [],
   "source": [
    "def fun():\n",
    "    arrays = [np.arange(10000) for i in ]"
   ]
  },
  {
   "cell_type": "code",
   "execution_count": 6,
   "id": "ef6cf9fc",
   "metadata": {},
   "outputs": [
    {
     "name": "stdout",
     "output_type": "stream",
     "text": [
      "548 ns ± 7.66 ns per loop (mean ± std. dev. of 7 runs, 1000000 loops each)\n"
     ]
    }
   ],
   "source": [
    "%timeit fun(a,b)"
   ]
  },
  {
   "cell_type": "code",
   "execution_count": 11,
   "id": "642f4e09",
   "metadata": {},
   "outputs": [],
   "source": [
    "@jit(nopython=True)\n",
    "def fun2(a,b):\n",
    "    return a&b"
   ]
  },
  {
   "cell_type": "code",
   "execution_count": 12,
   "id": "905c6e00",
   "metadata": {},
   "outputs": [
    {
     "name": "stdout",
     "output_type": "stream",
     "text": [
      "969 ns ± 14.6 ns per loop (mean ± std. dev. of 7 runs, 1000000 loops each)\n"
     ]
    }
   ],
   "source": [
    "%timeit fun2(a,b)"
   ]
  },
  {
   "cell_type": "code",
   "execution_count": null,
   "id": "f50e6470",
   "metadata": {},
   "outputs": [],
   "source": []
  }
 ],
 "metadata": {
  "kernelspec": {
   "display_name": "Python 3 (ipykernel)",
   "language": "python",
   "name": "python3"
  },
  "language_info": {
   "codemirror_mode": {
    "name": "ipython",
    "version": 3
   },
   "file_extension": ".py",
   "mimetype": "text/x-python",
   "name": "python",
   "nbconvert_exporter": "python",
   "pygments_lexer": "ipython3",
   "version": "3.8.5"
  }
 },
 "nbformat": 4,
 "nbformat_minor": 5
}
